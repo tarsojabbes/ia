{
 "cells": [
  {
   "cell_type": "code",
   "execution_count": 1,
   "metadata": {},
   "outputs": [
    {
     "name": "stderr",
     "output_type": "stream",
     "text": [
      "/home/tarsojabbes/.local/lib/python3.10/site-packages/tqdm/auto.py:21: TqdmWarning: IProgress not found. Please update jupyter and ipywidgets. See https://ipywidgets.readthedocs.io/en/stable/user_install.html\n",
      "  from .autonotebook import tqdm as notebook_tqdm\n"
     ]
    }
   ],
   "source": [
    "from transformers import pipeline\n",
    "import pandas as pd\n",
    "from tqdm import tqdm"
   ]
  },
  {
   "cell_type": "markdown",
   "metadata": {},
   "source": [
    "## Criação do Pipeline com o Modelo"
   ]
  },
  {
   "cell_type": "code",
   "execution_count": 2,
   "metadata": {},
   "outputs": [],
   "source": [
    "PATH = \"../model\"\n",
    "classifier = pipeline('text-classification', model= PATH, tokenizer= PATH)"
   ]
  },
  {
   "cell_type": "code",
   "execution_count": 3,
   "metadata": {},
   "outputs": [],
   "source": [
    "df_all = pd.read_csv('../Dados/test_data.csv')"
   ]
  },
  {
   "cell_type": "code",
   "execution_count": 4,
   "metadata": {},
   "outputs": [
    {
     "data": {
      "text/html": [
       "<div>\n",
       "<style scoped>\n",
       "    .dataframe tbody tr th:only-of-type {\n",
       "        vertical-align: middle;\n",
       "    }\n",
       "\n",
       "    .dataframe tbody tr th {\n",
       "        vertical-align: top;\n",
       "    }\n",
       "\n",
       "    .dataframe thead th {\n",
       "        text-align: right;\n",
       "    }\n",
       "</style>\n",
       "<table border=\"1\" class=\"dataframe\">\n",
       "  <thead>\n",
       "    <tr style=\"text-align: right;\">\n",
       "      <th></th>\n",
       "      <th>query</th>\n",
       "      <th>label</th>\n",
       "    </tr>\n",
       "  </thead>\n",
       "  <tbody>\n",
       "    <tr>\n",
       "      <th>0</th>\n",
       "      <td>A gente xinga a grande mídia o tempo todo, e...</td>\n",
       "      <td>0</td>\n",
       "    </tr>\n",
       "    <tr>\n",
       "      <th>1</th>\n",
       "      <td>g1: União Europeia ameaça com sanções países q...</td>\n",
       "      <td>0</td>\n",
       "    </tr>\n",
       "    <tr>\n",
       "      <th>2</th>\n",
       "      <td>é engraçado e retrata um pouco do lado 'marg...</td>\n",
       "      <td>0</td>\n",
       "    </tr>\n",
       "    <tr>\n",
       "      <th>3</th>\n",
       "      <td>o lula nunca acertou a nota azul do guitar hero</td>\n",
       "      <td>1</td>\n",
       "    </tr>\n",
       "    <tr>\n",
       "      <th>4</th>\n",
       "      <td>deve ser foda namorar uma evangélica, vc manda...</td>\n",
       "      <td>1</td>\n",
       "    </tr>\n",
       "  </tbody>\n",
       "</table>\n",
       "</div>"
      ],
      "text/plain": [
       "                                               query  label\n",
       "0    A gente xinga a grande mídia o tempo todo, e...      0\n",
       "1  g1: União Europeia ameaça com sanções países q...      0\n",
       "2    é engraçado e retrata um pouco do lado 'marg...      0\n",
       "3    o lula nunca acertou a nota azul do guitar hero      1\n",
       "4  deve ser foda namorar uma evangélica, vc manda...      1"
      ]
     },
     "execution_count": 4,
     "metadata": {},
     "output_type": "execute_result"
    }
   ],
   "source": [
    "df_all.head()"
   ]
  },
  {
   "cell_type": "code",
   "execution_count": 5,
   "metadata": {},
   "outputs": [
    {
     "data": {
      "text/plain": [
       "[{'label': 'LABEL_0', 'score': 0.9974229335784912}]"
      ]
     },
     "execution_count": 5,
     "metadata": {},
     "output_type": "execute_result"
    }
   ],
   "source": [
    "classifier(df_all['query'][0])"
   ]
  },
  {
   "cell_type": "markdown",
   "metadata": {},
   "source": [
    "## Rodando o classificador"
   ]
  },
  {
   "cell_type": "code",
   "execution_count": 7,
   "metadata": {},
   "outputs": [
    {
     "name": "stderr",
     "output_type": "stream",
     "text": [
      "100%|██████████| 1702/1702 [02:18<00:00, 12.25it/s]\n"
     ]
    }
   ],
   "source": [
    "preds = []\n",
    "\n",
    "for i, query in enumerate(tqdm(df_all['query'])):\n",
    "    try:\n",
    "        pred = classifier(query)\n",
    "        if pred[0]['label'] == 'LABEL_1' and pred[0]['score'] > 0.8:\n",
    "            preds.append(df_all['query'][i])    \n",
    "    except RuntimeError as e:\n",
    "        print(f\"query: {query}\")"
   ]
  },
  {
   "cell_type": "code",
   "execution_count": 8,
   "metadata": {},
   "outputs": [
    {
     "data": {
      "text/plain": [
       "514"
      ]
     },
     "execution_count": 8,
     "metadata": {},
     "output_type": "execute_result"
    }
   ],
   "source": [
    "len(preds)"
   ]
  },
  {
   "cell_type": "code",
   "execution_count": 9,
   "metadata": {},
   "outputs": [],
   "source": [
    "df_all['classification'] = df_all['query'].apply(lambda x: 1 if x in preds else 0)"
   ]
  },
  {
   "cell_type": "code",
   "execution_count": 10,
   "metadata": {},
   "outputs": [],
   "source": [
    "df_all.to_csv('../Dados/results_data2.csv', index=False)"
   ]
  },
  {
   "cell_type": "markdown",
   "metadata": {},
   "source": [
    "## Classificação para exemplos extras criados"
   ]
  },
  {
   "cell_type": "code",
   "execution_count": 12,
   "metadata": {},
   "outputs": [
    {
     "name": "stderr",
     "output_type": "stream",
     "text": [
      "100%|██████████| 20/20 [00:01<00:00, 18.39it/s]\n"
     ]
    }
   ],
   "source": [
    "df_custom = pd.read_csv('../Dados/custom.csv')\n",
    "\n",
    "preds = []\n",
    "\n",
    "for i, query in enumerate(tqdm(df_custom['query'])):\n",
    "    try:\n",
    "        pred = classifier(query)\n",
    "        if pred[0]['label'] == 'LABEL_1' and pred[0]['score'] > 0.8:\n",
    "            preds.append(df_custom['query'][i])    \n",
    "    except RuntimeError as e:\n",
    "        print(f\"query: {query}\")\n",
    "\n",
    "df_custom['classification'] = df_custom['query'].apply(lambda x: 1 if x in preds else 0)\n",
    "df_custom.to_csv('../Dados/custom_result.csv', index=False)\n"
   ]
  },
  {
   "cell_type": "code",
   "execution_count": 14,
   "metadata": {},
   "outputs": [
    {
     "name": "stdout",
     "output_type": "stream",
     "text": [
      "Acertos: 19\n",
      "Erros: 1\n",
      "Porcentagem de Acertos: 95.00%\n"
     ]
    }
   ],
   "source": [
    "df_custom_result = pd.read_csv(\"../Dados/custom_result.csv\")\n",
    "\n",
    "df_custom_result['acerto'] = df_custom_result['label'] == df_custom_result['classification']\n",
    "\n",
    "acertos = df_custom_result['acerto'].sum()\n",
    "\n",
    "erros = len(df_custom_result) - acertos\n",
    "\n",
    "print(f\"Acertos: {acertos}\")\n",
    "print(f\"Erros: {erros}\")\n",
    "\n",
    "porcentagem_acertos = acertos / len(df_custom_result) * 100\n",
    "print(f\"Porcentagem de Acertos: {porcentagem_acertos:.2f}%\")"
   ]
  }
 ],
 "metadata": {
  "kernelspec": {
   "display_name": "venv",
   "language": "python",
   "name": "python3"
  },
  "language_info": {
   "codemirror_mode": {
    "name": "ipython",
    "version": 3
   },
   "file_extension": ".py",
   "mimetype": "text/x-python",
   "name": "python",
   "nbconvert_exporter": "python",
   "pygments_lexer": "ipython3",
   "version": "3.10.12"
  },
  "orig_nbformat": 4
 },
 "nbformat": 4,
 "nbformat_minor": 2
}
