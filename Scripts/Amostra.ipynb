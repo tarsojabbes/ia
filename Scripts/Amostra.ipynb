{
 "cells": [
  {
   "cell_type": "code",
   "execution_count": 37,
   "metadata": {},
   "outputs": [],
   "source": [
    "import pandas as pd\n",
    "import re\n",
    "from sklearn.model_selection import train_test_split"
   ]
  },
  {
   "cell_type": "markdown",
   "metadata": {},
   "source": [
    "## Import do Dataset CSV"
   ]
  },
  {
   "cell_type": "code",
   "execution_count": 30,
   "metadata": {},
   "outputs": [],
   "source": [
    "data = pd.read_csv('../Dados/2019-05-28_portuguese_hate_speech_binary_classification.csv')"
   ]
  },
  {
   "cell_type": "markdown",
   "metadata": {},
   "source": [
    "## Balanceamento do dataset usando undersampling"
   ]
  },
  {
   "cell_type": "code",
   "execution_count": 31,
   "metadata": {},
   "outputs": [
    {
     "name": "stdout",
     "output_type": "stream",
     "text": [
      "hatespeech_comb\n",
      "1    1788\n",
      "0    1788\n",
      "Name: count, dtype: int64\n"
     ]
    }
   ],
   "source": [
    "from sklearn.utils import resample\n",
    "\n",
    "df = data\n",
    "\n",
    "df_label_1 = df[df['hatespeech_comb'] == 1]\n",
    "df_label_0 = df[df['hatespeech_comb'] == 0]\n",
    "\n",
    "min_class_size = min(len(df_label_1), len(df_label_0))\n",
    "\n",
    "df_label_1_downsampled = resample(df_label_1, \n",
    "                                  replace=False,\n",
    "                                  n_samples=min_class_size,\n",
    "                                  random_state=42)\n",
    "\n",
    "df_label_0_downsampled = resample(df_label_0, \n",
    "                                  replace=False, \n",
    "                                  n_samples=min_class_size, \n",
    "                                  random_state=42)\n",
    "\n",
    "df_balanced = pd.concat([df_label_1_downsampled, df_label_0_downsampled]).sample(frac=1, random_state=42)\n",
    "\n",
    "print(df_balanced['hatespeech_comb'].value_counts())\n",
    "\n",
    "data = df_balanced\n"
   ]
  },
  {
   "cell_type": "code",
   "execution_count": 32,
   "metadata": {},
   "outputs": [
    {
     "data": {
      "text/html": [
       "<div>\n",
       "<style scoped>\n",
       "    .dataframe tbody tr th:only-of-type {\n",
       "        vertical-align: middle;\n",
       "    }\n",
       "\n",
       "    .dataframe tbody tr th {\n",
       "        vertical-align: top;\n",
       "    }\n",
       "\n",
       "    .dataframe thead th {\n",
       "        text-align: right;\n",
       "    }\n",
       "</style>\n",
       "<table border=\"1\" class=\"dataframe\">\n",
       "  <thead>\n",
       "    <tr style=\"text-align: right;\">\n",
       "      <th></th>\n",
       "      <th>text</th>\n",
       "      <th>hatespeech_comb</th>\n",
       "    </tr>\n",
       "  </thead>\n",
       "  <tbody>\n",
       "    <tr>\n",
       "      <th>2051</th>\n",
       "      <td>Hj é mulher maravilhosa, mulher é isso e aquil...</td>\n",
       "      <td>1</td>\n",
       "    </tr>\n",
       "    <tr>\n",
       "      <th>3619</th>\n",
       "      <td>@ProcessinhoBR @srdeabo é engraçado e retrata ...</td>\n",
       "      <td>0</td>\n",
       "    </tr>\n",
       "    <tr>\n",
       "      <th>367</th>\n",
       "      <td>@amora_inlove Gosto não, acho ela bonita nao, ...</td>\n",
       "      <td>0</td>\n",
       "    </tr>\n",
       "    <tr>\n",
       "      <th>5255</th>\n",
       "      <td>@tafacill por mim seria 30 dias pra mulher e 1...</td>\n",
       "      <td>1</td>\n",
       "    </tr>\n",
       "    <tr>\n",
       "      <th>1827</th>\n",
       "      <td>@franmoraes2 Boa noite esquisitinha legal... r...</td>\n",
       "      <td>0</td>\n",
       "    </tr>\n",
       "    <tr>\n",
       "      <th>3994</th>\n",
       "      <td>RT @atletico: Sócios GNV Prata e GNV Branco, c...</td>\n",
       "      <td>0</td>\n",
       "    </tr>\n",
       "    <tr>\n",
       "      <th>151</th>\n",
       "      <td>A esquerdalha (protegida pelo sistema e pelos ...</td>\n",
       "      <td>1</td>\n",
       "    </tr>\n",
       "    <tr>\n",
       "      <th>3982</th>\n",
       "      <td>RT @antonutchi: Porque o que mais tem é lobo e...</td>\n",
       "      <td>0</td>\n",
       "    </tr>\n",
       "    <tr>\n",
       "      <th>5051</th>\n",
       "      <td>se fosse o mito cuspindo no jean seria homofob...</td>\n",
       "      <td>1</td>\n",
       "    </tr>\n",
       "    <tr>\n",
       "      <th>4130</th>\n",
       "      <td>RT @danielaarod: adoro o tempo assim</td>\n",
       "      <td>0</td>\n",
       "    </tr>\n",
       "    <tr>\n",
       "      <th>3899</th>\n",
       "      <td>RT @_vininobrega: RT @direitafalando interpret...</td>\n",
       "      <td>1</td>\n",
       "    </tr>\n",
       "    <tr>\n",
       "      <th>2980</th>\n",
       "      <td>No mês de março, em que regularmente celebra-s...</td>\n",
       "      <td>0</td>\n",
       "    </tr>\n",
       "    <tr>\n",
       "      <th>983</th>\n",
       "      <td>Crepúsculo:\\nUm vira lobo\\nUm vira vampiro\\nNi...</td>\n",
       "      <td>1</td>\n",
       "    </tr>\n",
       "    <tr>\n",
       "      <th>4035</th>\n",
       "      <td>RT @blogkatia: 30% da arrecadação para a Previ...</td>\n",
       "      <td>0</td>\n",
       "    </tr>\n",
       "    <tr>\n",
       "      <th>3364</th>\n",
       "      <td>Parabéns pra você, mulher. Parabéns pra você q...</td>\n",
       "      <td>1</td>\n",
       "    </tr>\n",
       "    <tr>\n",
       "      <th>1625</th>\n",
       "      <td>Eu sou bi e não sapatão. E mesmo se eu fosse, ...</td>\n",
       "      <td>0</td>\n",
       "    </tr>\n",
       "    <tr>\n",
       "      <th>2038</th>\n",
       "      <td>@HelderRocha16 @ChagaLuccas nunca disse q héte...</td>\n",
       "      <td>0</td>\n",
       "    </tr>\n",
       "    <tr>\n",
       "      <th>5280</th>\n",
       "      <td>Tchau gayzada!\\nTchau Campinas!\\n#PartiuSp</td>\n",
       "      <td>0</td>\n",
       "    </tr>\n",
       "    <tr>\n",
       "      <th>3113</th>\n",
       "      <td>Oi, amores... @dra_e @agdabritto @Tais_Renata ...</td>\n",
       "      <td>0</td>\n",
       "    </tr>\n",
       "    <tr>\n",
       "      <th>892</th>\n",
       "      <td>Coisas que odeio\\nesquerdista de iphone\\nhipoc...</td>\n",
       "      <td>1</td>\n",
       "    </tr>\n",
       "  </tbody>\n",
       "</table>\n",
       "</div>"
      ],
      "text/plain": [
       "                                                   text  hatespeech_comb\n",
       "2051  Hj é mulher maravilhosa, mulher é isso e aquil...                1\n",
       "3619  @ProcessinhoBR @srdeabo é engraçado e retrata ...                0\n",
       "367   @amora_inlove Gosto não, acho ela bonita nao, ...                0\n",
       "5255  @tafacill por mim seria 30 dias pra mulher e 1...                1\n",
       "1827  @franmoraes2 Boa noite esquisitinha legal... r...                0\n",
       "3994  RT @atletico: Sócios GNV Prata e GNV Branco, c...                0\n",
       "151   A esquerdalha (protegida pelo sistema e pelos ...                1\n",
       "3982  RT @antonutchi: Porque o que mais tem é lobo e...                0\n",
       "5051  se fosse o mito cuspindo no jean seria homofob...                1\n",
       "4130               RT @danielaarod: adoro o tempo assim                0\n",
       "3899  RT @_vininobrega: RT @direitafalando interpret...                1\n",
       "2980  No mês de março, em que regularmente celebra-s...                0\n",
       "983   Crepúsculo:\\nUm vira lobo\\nUm vira vampiro\\nNi...                1\n",
       "4035  RT @blogkatia: 30% da arrecadação para a Previ...                0\n",
       "3364  Parabéns pra você, mulher. Parabéns pra você q...                1\n",
       "1625  Eu sou bi e não sapatão. E mesmo se eu fosse, ...                0\n",
       "2038  @HelderRocha16 @ChagaLuccas nunca disse q héte...                0\n",
       "5280         Tchau gayzada!\\nTchau Campinas!\\n#PartiuSp                0\n",
       "3113  Oi, amores... @dra_e @agdabritto @Tais_Renata ...                0\n",
       "892   Coisas que odeio\\nesquerdista de iphone\\nhipoc...                1"
      ]
     },
     "execution_count": 32,
     "metadata": {},
     "output_type": "execute_result"
    }
   ],
   "source": [
    "data.head(20)"
   ]
  },
  {
   "cell_type": "markdown",
   "metadata": {},
   "source": [
    "## Aplicação de RegEx para excluir \"RT\" e identificadores de usuário"
   ]
  },
  {
   "cell_type": "code",
   "execution_count": 33,
   "metadata": {},
   "outputs": [],
   "source": [
    "# remove os @ \"RT\" e quebra de linha (/n)\n",
    "data['text'] = data['text'].str.replace(r'@\\S+', '', regex=True)\n",
    "data['text'] = data['text'].str.replace(r'\\n', ' ', regex=True)\n",
    "data['text'] = data['text'].str.replace(r'RT', '', regex=True)"
   ]
  },
  {
   "cell_type": "code",
   "execution_count": 34,
   "metadata": {},
   "outputs": [],
   "source": [
    "# Alteração dos nomes das colunas do dataset\n",
    "data.rename(columns={'text': 'query', 'hatespeech_comb': 'label'}, inplace=True)"
   ]
  },
  {
   "cell_type": "code",
   "execution_count": 35,
   "metadata": {},
   "outputs": [
    {
     "data": {
      "text/html": [
       "<div>\n",
       "<style scoped>\n",
       "    .dataframe tbody tr th:only-of-type {\n",
       "        vertical-align: middle;\n",
       "    }\n",
       "\n",
       "    .dataframe tbody tr th {\n",
       "        vertical-align: top;\n",
       "    }\n",
       "\n",
       "    .dataframe thead th {\n",
       "        text-align: right;\n",
       "    }\n",
       "</style>\n",
       "<table border=\"1\" class=\"dataframe\">\n",
       "  <thead>\n",
       "    <tr style=\"text-align: right;\">\n",
       "      <th></th>\n",
       "      <th>query</th>\n",
       "      <th>label</th>\n",
       "    </tr>\n",
       "  </thead>\n",
       "  <tbody>\n",
       "    <tr>\n",
       "      <th>2051</th>\n",
       "      <td>Hj é mulher maravilhosa, mulher é isso e aquil...</td>\n",
       "      <td>1</td>\n",
       "    </tr>\n",
       "    <tr>\n",
       "      <th>3619</th>\n",
       "      <td>é engraçado e retrata um pouco do lado 'marg...</td>\n",
       "      <td>0</td>\n",
       "    </tr>\n",
       "    <tr>\n",
       "      <th>367</th>\n",
       "      <td>Gosto não, acho ela bonita nao, nem nada nao....</td>\n",
       "      <td>0</td>\n",
       "    </tr>\n",
       "    <tr>\n",
       "      <th>5255</th>\n",
       "      <td>por mim seria 30 dias pra mulher e 1 dia pro ...</td>\n",
       "      <td>1</td>\n",
       "    </tr>\n",
       "    <tr>\n",
       "      <th>1827</th>\n",
       "      <td>Boa noite esquisitinha legal... rsrs zzzzzzzz...</td>\n",
       "      <td>0</td>\n",
       "    </tr>\n",
       "  </tbody>\n",
       "</table>\n",
       "</div>"
      ],
      "text/plain": [
       "                                                  query  label\n",
       "2051  Hj é mulher maravilhosa, mulher é isso e aquil...      1\n",
       "3619    é engraçado e retrata um pouco do lado 'marg...      0\n",
       "367    Gosto não, acho ela bonita nao, nem nada nao....      0\n",
       "5255   por mim seria 30 dias pra mulher e 1 dia pro ...      1\n",
       "1827   Boa noite esquisitinha legal... rsrs zzzzzzzz...      0"
      ]
     },
     "execution_count": 35,
     "metadata": {},
     "output_type": "execute_result"
    }
   ],
   "source": [
    "data.head()"
   ]
  },
  {
   "cell_type": "markdown",
   "metadata": {},
   "source": [
    "## Divisão do Dataset em Treino e Teste"
   ]
  },
  {
   "cell_type": "code",
   "execution_count": 36,
   "metadata": {},
   "outputs": [
    {
     "name": "stdout",
     "output_type": "stream",
     "text": [
      "                                                  query  label\n",
      "3619    é engraçado e retrata um pouco do lado 'marg...      0\n",
      "367    Gosto não, acho ela bonita nao, nem nada nao....      0\n",
      "1827   Boa noite esquisitinha legal... rsrs zzzzzzzz...      0\n",
      "3994    Sócios GNV Prata e GNV Branco, continua a ve...      0\n",
      "3982    Porque o que mais tem é lobo em pele de cord...      0\n",
      "...                                                 ...    ...\n",
      "4937    Acção na Figueira da Foz https://t.co/nLwhy9...      0\n",
      "3477   Acho q quem sempre se esteve a cagar para a p...      0\n",
      "5342               Não confunda Trump com George Soros.      0\n",
      "1340  encontrar os infiltrados no próprio FBI. Infor...      0\n",
      "2249   essa é a mina do bbb que mandou o cara botar ...      0\n",
      "\n",
      "[1788 rows x 2 columns]\n",
      "                                                  query  label\n",
      "2051  Hj é mulher maravilhosa, mulher é isso e aquil...      1\n",
      "5255   por mim seria 30 dias pra mulher e 1 dia pro ...      1\n",
      "151   A esquerdalha (protegida pelo sistema e pelos ...      1\n",
      "5051  se fosse o mito cuspindo no jean seria homofob...      1\n",
      "3899      interpretou bandido, defende bandido https...      1\n",
      "...                                                 ...    ...\n",
      "2229  Jair Messias Bolsonaro desmascara padre pedófi...      1\n",
      "1236  E a seguir quer provar que o Islão e compatíve...      1\n",
      "4145    meudeus que FARDO deve ser ter nascido héter...      1\n",
      "3084  O engraçado - err correção: estúpido - é gasta...      1\n",
      "5188  só os machão que no ano inteiro chamam a mulhe...      1\n",
      "\n",
      "[1788 rows x 2 columns]\n",
      "Tamanho do conjunto de treino: 2502\n",
      "Tamanho do conjunto de teste: 1074\n"
     ]
    }
   ],
   "source": [
    "df = pd.DataFrame(data)\n",
    "\n",
    "print(df[df[\"label\"] == 0])\n",
    "print(df[df[\"label\"] == 1])\n",
    "\n",
    "df_label_1 = df[df['label'] == 1]\n",
    "df_label_0 = df[df['label'] == 0]\n",
    "train_size = 0.7\n",
    "\n",
    "\n",
    "df_train_1, df_test_1 = train_test_split(df_label_1, train_size=train_size, random_state=42)\n",
    "df_train_0, df_test_0 = train_test_split(df_label_0, train_size=train_size, random_state=42)\n",
    "\n",
    "df_train = pd.concat([df_train_1, df_train_0]).sample(frac=1, random_state=42).reset_index(drop=True)\n",
    "df_test = pd.concat([df_test_1, df_test_0]).sample(frac=1, random_state=42).reset_index(drop=True)\n",
    "\n",
    "print(\"Tamanho do conjunto de treino:\", len(df_train))\n",
    "print(\"Tamanho do conjunto de teste:\", len(df_test))\n",
    "\n",
    "\n",
    "df_train.to_csv('../Dados/train_data2.csv', index=False)\n",
    "df_test.to_csv('../Dados/test_data2.csv', index=False)"
   ]
  }
 ],
 "metadata": {
  "kernelspec": {
   "display_name": "Python 3",
   "language": "python",
   "name": "python3"
  },
  "language_info": {
   "codemirror_mode": {
    "name": "ipython",
    "version": 3
   },
   "file_extension": ".py",
   "mimetype": "text/x-python",
   "name": "python",
   "nbconvert_exporter": "python",
   "pygments_lexer": "ipython3",
   "version": "3.10.12"
  }
 },
 "nbformat": 4,
 "nbformat_minor": 2
}
